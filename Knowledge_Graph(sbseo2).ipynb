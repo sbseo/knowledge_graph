{
 "cells": [
  {
   "cell_type": "markdown",
   "metadata": {
    "slideshow": {
     "slide_type": "slide"
    }
   },
   "source": [
    "# Knowledge Graph Project (FORWARD Data Lab)"
   ]
  },
  {
   "cell_type": "markdown",
   "metadata": {},
   "source": [
    "![logo](./logo.png)"
   ]
  },
  {
   "cell_type": "markdown",
   "metadata": {},
   "source": [
    "## Part 1. ETL Pipeline"
   ]
  },
  {
   "cell_type": "markdown",
   "metadata": {},
   "source": [
    "### Load libraries"
   ]
  },
  {
   "cell_type": "code",
   "execution_count": 1,
   "metadata": {},
   "outputs": [],
   "source": [
    "import pyspark as sp\n",
    "import numpy as np\n",
    "import string\n",
    "import re"
   ]
  },
  {
   "cell_type": "markdown",
   "metadata": {},
   "source": [
    "### Set environment variable (optional)"
   ]
  },
  {
   "cell_type": "code",
   "execution_count": 2,
   "metadata": {},
   "outputs": [],
   "source": [
    "import os\n",
    "os.environ[\"PYSPARK_PYTHON\"]=\"/usr/bin/python3\" \n",
    "os.environ[\"PYSPARK_DRIVER_PYTHON\"]=\"/usr/bin/python3\""
   ]
  },
  {
   "cell_type": "markdown",
   "metadata": {},
   "source": [
    "### Setup cluster"
   ]
  },
  {
   "cell_type": "code",
   "execution_count": 3,
   "metadata": {},
   "outputs": [],
   "source": [
    "from pyspark.sql import SparkSession\n",
    "from pyspark import SparkContext\n",
    "\n",
    "spark = SparkSession \\\n",
    "    .builder \\\n",
    "    .appName(\"Python Knowledge Graph Project\") \\\n",
    "    .config(\"spark.driver.memory\", \"32g\") \\\n",
    "    .master(\"local[*]\") \\\n",
    "    .getOrCreate()"
   ]
  },
  {
   "cell_type": "markdown",
   "metadata": {},
   "source": [
    "###  Load dataset\n",
    "\n",
    "- Documents: `1.7m` documents (arXiv dataset)\n",
    "- Keyword list: `100,000` keywords (FORWARD Data Lab)\n",
    "- Download your documents here: https://www.kaggle.com/Cornell-University/arxiv."
   ]
  },
  {
   "cell_type": "code",
   "execution_count": 4,
   "metadata": {},
   "outputs": [],
   "source": [
    "df_keywords = spark.read.csv(\"./mag_cs_keywords.csv\",header=True)\n",
    "df_arxiv = spark.read.json(\"./arxiv-metadata-oai-snapshot.json\")"
   ]
  },
  {
   "cell_type": "code",
   "execution_count": 5,
   "metadata": {},
   "outputs": [],
   "source": [
    "df_keywords = df_keywords.repartition(16)\n",
    "df_arxiv = df_arxiv.repartition(16)"
   ]
  },
  {
   "cell_type": "code",
   "execution_count": 6,
   "metadata": {},
   "outputs": [
    {
     "data": {
      "text/plain": [
       "16"
      ]
     },
     "execution_count": 6,
     "metadata": {},
     "output_type": "execute_result"
    }
   ],
   "source": [
    "df_keywords.rdd.getNumPartitions()"
   ]
  },
  {
   "cell_type": "code",
   "execution_count": 7,
   "metadata": {},
   "outputs": [
    {
     "data": {
      "text/plain": [
       "104654"
      ]
     },
     "execution_count": 7,
     "metadata": {},
     "output_type": "execute_result"
    }
   ],
   "source": [
    "df_keywords.count()"
   ]
  },
  {
   "cell_type": "code",
   "execution_count": 8,
   "metadata": {},
   "outputs": [],
   "source": [
    "abstracts = df_arxiv.select(\"id\",\"abstract\")\n",
    "keywords = df_keywords.select(\"normalizedName\")"
   ]
  },
  {
   "cell_type": "markdown",
   "metadata": {},
   "source": [
    "### Cleaning & Normalization"
   ]
  },
  {
   "cell_type": "code",
   "execution_count": 9,
   "metadata": {},
   "outputs": [],
   "source": [
    "from pyspark.sql.functions import udf, col\n",
    "from pyspark.sql import Row\n",
    "from pyspark.sql.types import ArrayType, StructField, StructType, StringType, IntegerType\n",
    "\n",
    "# get only lowercase alphabets\n",
    "def strip_non_ascii(data_str):\n",
    "    ''' Returns the string without non ASCII characters'''\n",
    "    stripped = (c.lower() for c in data_str if 96 < ord(c.lower()) < 123 or ord(c)==32) #alphabets\n",
    "\n",
    "    return ''.join(stripped)\n",
    "# setup pyspark udf function\n",
    "strip_non_ascii_udf = udf(strip_non_ascii, StringType())"
   ]
  },
  {
   "cell_type": "code",
   "execution_count": 10,
   "metadata": {},
   "outputs": [],
   "source": [
    "abstracts = abstracts.withColumn('normalized', strip_non_ascii_udf(abstracts['abstract']))\n",
    "abstracts = abstracts.select(\"id\",\"normalized\")"
   ]
  },
  {
   "cell_type": "code",
   "execution_count": 11,
   "metadata": {},
   "outputs": [
    {
     "name": "stdout",
     "output_type": "stream",
     "text": [
      "+---------+--------------------+\n",
      "|       id|          normalized|\n",
      "+---------+--------------------+\n",
      "|0705.2030|  the group eso s...|\n",
      "|0801.0970|  this paper is c...|\n",
      "|0709.3236|  we present a ge...|\n",
      "|0809.3030|  the tragedy of ...|\n",
      "|0712.0290|  the ability to ...|\n",
      "|0805.2349|  this article pr...|\n",
      "|0805.1292|  we turn the chu...|\n",
      "|0712.3567|  the random sequ...|\n",
      "|0705.1654|  a smallscale tr...|\n",
      "|0803.3867|  we present a ch...|\n",
      "|0709.0351|  for precision s...|\n",
      "|0711.4659|  in a newly intr...|\n",
      "|0705.1358|  we propose two ...|\n",
      "|0710.2002|  we present prec...|\n",
      "|0801.1957|  we calculate th...|\n",
      "|0707.0756|  many topologica...|\n",
      "|0808.0066|  the reasonablen...|\n",
      "|0801.3027|  in this paper w...|\n",
      "|0707.0344|  in this paper w...|\n",
      "|0807.4946|  we establish lo...|\n",
      "+---------+--------------------+\n",
      "only showing top 20 rows\n",
      "\n"
     ]
    }
   ],
   "source": [
    "abstracts.show()"
   ]
  },
  {
   "cell_type": "markdown",
   "metadata": {},
   "source": [
    "### Keyword List for Query\n",
    "\n",
    "- `keywords_dict` : Hash table is used to find whether documents contain keywords\n",
    "- My frist attempt was using regular expression (re.findall()). \n",
    "- When using regular expression, there could be a time complexity issue due to unnecessary computational overhead\n",
    "- To prevent optimize algorithm, we should search `from document to word`. "
   ]
  },
  {
   "cell_type": "code",
   "execution_count": 12,
   "metadata": {},
   "outputs": [],
   "source": [
    "keywords_list = list(keywords.select('normalizedName').toPandas()['normalizedName'])\n",
    "keyword_dict = {word:0 for word in keywords_list}"
   ]
  },
  {
   "cell_type": "markdown",
   "metadata": {},
   "source": [
    "### Extract Keyword from the keyword list"
   ]
  },
  {
   "cell_type": "code",
   "execution_count": 13,
   "metadata": {},
   "outputs": [],
   "source": [
    "import re, nltk\n",
    "\n",
    "# Define the function you want to return\n",
    "def extract(s):\n",
    "    all_matches = set()\n",
    "    \n",
    "    ngrams = list()\n",
    "    ngrams.append(s.split(\" \"))\n",
    "    for i in range(1,3): # add unigram, bigram\n",
    "        ngrams.append(nltk.ngrams(ngrams[0], i))\n",
    "    \n",
    "    for ngram in ngrams: \n",
    "        for token in ngram:\n",
    "            token = ' '.join(token)\n",
    "            if keyword_dict.get(token, -1) >=0: \n",
    "                keyword_dict[token] += 1\n",
    "                all_matches.add(token)\n",
    "    return ','.join(all_matches)\n",
    "\n",
    "# Create the UDF, note that you need to declare the return schema matching the returned type\n",
    "extract_udf = udf(extract, StringType())\n",
    "\n",
    "# Apply it\n",
    "df = abstracts.withColumn('extracted', extract_udf(abstracts['normalized']))"
   ]
  },
  {
   "cell_type": "code",
   "execution_count": 15,
   "metadata": {},
   "outputs": [
    {
     "name": "stdout",
     "output_type": "stream",
     "text": [
      "+---------+--------------------+--------------------+\n",
      "|       id|          normalized|           extracted|\n",
      "+---------+--------------------+--------------------+\n",
      "|0705.2030|  the group eso s...|power,momentum,ro...|\n",
      "|0801.0970|  this paper is c...|selection,minimax...|\n",
      "|0709.3236|  we present a ge...|perturbation theo...|\n",
      "|0809.3030|  the tragedy of ...|set,crowdsourcing...|\n",
      "|0712.0290|  the ability to ...|mechanism,morphol...|\n",
      "|0805.2349|  this article pr...|liquid helium,pha...|\n",
      "|0805.1292|  we turn the chu...|physics,computati...|\n",
      "|0712.3567|  the random sequ...|deposition,initia...|\n",
      "|0705.1654|  a smallscale tr...|thermal,temperatu...|\n",
      "|0803.3867|  we present a ch...|        product,term|\n",
      "|0709.0351|  for precision s...|field,perturbatio...|\n",
      "|0711.4659|  in a newly intr...|square,phase,posi...|\n",
      "|0705.1358|  we propose two ...|phase,phase trans...|\n",
      "|0710.2002|  we present prec...|pair production,d...|\n",
      "|0801.1957|  we calculate th...|quantum,phase,fie...|\n",
      "|0707.0756|  many topologica...|generalization,se...|\n",
      "|0808.0066|  the reasonablen...|perturbation theo...|\n",
      "|0801.3027|  in this paper w...|brownian motion,p...|\n",
      "|0707.0344|  in this paper w...|bridge,is a,devia...|\n",
      "|0807.4946|  we establish lo...|inflow,outflow,la...|\n",
      "+---------+--------------------+--------------------+\n",
      "only showing top 20 rows\n",
      "\n"
     ]
    }
   ],
   "source": [
    "df.show()"
   ]
  },
  {
   "cell_type": "markdown",
   "metadata": {},
   "source": [
    "$$ PMI(A,B) = \\frac{P(A,B)}{P(A)*P(B)}$$"
   ]
  },
  {
   "cell_type": "markdown",
   "metadata": {},
   "source": [
    "$$ P(A,B) = \\frac{c((A,B), C_{\\text{pairs}})}{c(C_{\\text{pairs}})} $$"
   ]
  },
  {
   "cell_type": "markdown",
   "metadata": {},
   "source": [
    "$$ P(A) = \\frac{c(A)}{c(C)}, P(B) = \\frac{c(B)}{c(C)} $$"
   ]
  },
  {
   "cell_type": "markdown",
   "metadata": {},
   "source": [
    "$$ \\text{where C stands for word collection} $$"
   ]
  },
  {
   "cell_type": "markdown",
   "metadata": {},
   "source": [
    "### 1. Get Word Count \n",
    "\n",
    "- `corpus`: It is a dictionary of unigram count\n",
    "      defaultdict(int,\n",
    "                {'conjugate': 4041,\n",
    "                 'quantum': 162709,\n",
    "                 'lambda': 18154,\n",
    "                 'method': 195849,\n",
    "                 'quantization': 11050, \n",
    "                 ...\n",
    "                 }"
   ]
  },
  {
   "cell_type": "code",
   "execution_count": 16,
   "metadata": {},
   "outputs": [],
   "source": [
    "corpus_temp = df.select(\"extracted\").rdd.repartition(16).flatMap(lambda x: (x[\"extracted\"].split(\",\")))\n",
    "corpus = corpus_temp.countByValue()"
   ]
  },
  {
   "cell_type": "markdown",
   "metadata": {},
   "source": [
    "### 2. Get Cooccurence Count\n",
    "- `corpus2` : It is a dictionary where key is tuple (pair of unigrams) and value is frequency\n",
    "        defaultdict(int,\n",
    "                    {('conjugate', 'quantum'): 490,\n",
    "                     ('conjugate', 'lambda'): 60,\n",
    "                     ('conjugate', 'method'): 606,\n",
    "                     ('conjugate', 'quantization'): 82, \n",
    "                     ... \n",
    "                     }"
   ]
  },
  {
   "cell_type": "code",
   "execution_count": 17,
   "metadata": {},
   "outputs": [],
   "source": [
    "rdds = df.select(\"extracted\").rdd.repartition(16).map(lambda x: x['extracted'].split(\",\"))"
   ]
  },
  {
   "cell_type": "code",
   "execution_count": 18,
   "metadata": {},
   "outputs": [],
   "source": [
    "from itertools import combinations\n",
    "corpus2_temp = rdds.flatMap(lambda x: combinations(x,2))\n",
    "corpus2 = corpus2_temp.countByValue()"
   ]
  },
  {
   "cell_type": "markdown",
   "metadata": {},
   "source": [
    "### 3. How to avoid bottleneck?\n",
    "\n",
    "- Use clusters! (Amazon EMR, S3)"
   ]
  },
  {
   "cell_type": "markdown",
   "metadata": {},
   "source": [
    "### 4. Save Result Here\n",
    "\n",
    "- Uncomment to save to text file"
   ]
  },
  {
   "cell_type": "code",
   "execution_count": 19,
   "metadata": {},
   "outputs": [],
   "source": [
    "corpus_temp.repartition(8).saveAsTextFile(\"./corpus_final.txt\")\n",
    "corpus2_temp.repartition(8).saveAsTextFile(\"./corpus2_final.txt\")"
   ]
  },
  {
   "cell_type": "markdown",
   "metadata": {},
   "source": [
    "### 5. Load From File\n",
    "\n",
    "- Uncomment to load from file"
   ]
  },
  {
   "cell_type": "code",
   "execution_count": null,
   "metadata": {},
   "outputs": [],
   "source": [
    "# corpus = spark.sparkContext.textFile(\"./corpus_final.txt\").countByValue()\n",
    "# corpus2 = spark.sparkContext.textFile(\"./corpus2_final.txt\").countByValue()\n",
    "\n",
    "\"\"\"\n",
    "Clean corpus when read from file\n",
    "Since we are loading from a textfile, tuples are converted into strings\n",
    "\"\"\"\n",
    "# from collections import defaultdict\n",
    "# corpus_temp = defaultdict(int)\n",
    "\n",
    "# corpus = dict(map(lambda x: (x[0].strip(), x[1]), corpus.items()))\n",
    "# for k, v in corpus2.items():\n",
    "#     k1, k2 = re.sub(\"'\", \"\", k.strip('\"()')).split(\",\")\n",
    "#     k2 = k2.strip()\n",
    "#     w1, w2 = min(k1, k2), max(k1, k2)\n",
    "#     corpus_temp[(w1, w2)] += v\n",
    "# corpus2 = corpus_temp"
   ]
  },
  {
   "cell_type": "markdown",
   "metadata": {},
   "source": [
    "## Part 2. Graph Visualization"
   ]
  },
  {
   "cell_type": "markdown",
   "metadata": {},
   "source": [
    "### Draw Graph"
   ]
  },
  {
   "cell_type": "code",
   "execution_count": 20,
   "metadata": {},
   "outputs": [],
   "source": [
    "freq_threshold = 0\n",
    "PMI_threshold = 10"
   ]
  },
  {
   "cell_type": "code",
   "execution_count": 22,
   "metadata": {},
   "outputs": [],
   "source": [
    "import networkx as nx\n",
    "import math\n",
    "import pdb\n",
    "G = nx.Graph()\n",
    "\n",
    "total_word_freq = sum(corpus.values())\n",
    "total_pair_freq = sum(corpus2.values())\n",
    "for (n1, n2), cooccurence in corpus2.items():\n",
    "    if corpus[n1] > freq_threshold and corpus[n2] > freq_threshold and cooccurence:\n",
    "        pa = corpus[n1] / total_word_freq\n",
    "        pb = corpus[n2] / total_word_freq\n",
    "        pab = cooccurence / total_pair_freq\n",
    "        \n",
    "        pmi = math.log(pab/(pa*pb), 2)\n",
    "        G.add_edge(n1, n2, weight=pmi)"
   ]
  },
  {
   "cell_type": "markdown",
   "metadata": {},
   "source": [
    "### !! Test Your QUERY Here !!\n",
    "\n",
    "- Type `your query` here\n",
    "- Sample queries include\n",
    "        gene, class, theory, stat, dimension, state"
   ]
  },
  {
   "cell_type": "code",
   "execution_count": 23,
   "metadata": {},
   "outputs": [
    {
     "data": {
      "text/plain": [
       "[('essential gene', {'weight': 9.872051630340065}),\n",
       " ('gene sets', {'weight': 9.872051630340065}),\n",
       " ('gene expression', {'weight': 9.872051630340065}),\n",
       " ('parthenogenesis', {'weight': 9.872051630340065}),\n",
       " ('target gene', {'weight': 9.872051630340065}),\n",
       " ('synthetic gene', {'weight': 9.872051630340065}),\n",
       " ('single gene', {'weight': 9.872051630340065}),\n",
       " ('gap gene', {'weight': 9.872051630340065}),\n",
       " ('heterotopia', {'weight': 9.872051630340065}),\n",
       " ('gene selection', {'weight': 9.872051630340065})]"
      ]
     },
     "execution_count": 23,
     "metadata": {},
     "output_type": "execute_result"
    }
   ],
   "source": [
    "query = 'gene'\n",
    "sorted(G.adj[query].items(), key=lambda x: x[1]['weight'], reverse=True)[:10]"
   ]
  },
  {
   "cell_type": "markdown",
   "metadata": {},
   "source": [
    "- Higher than `10 pmi` demonstrates a strong relationship between the two words\n",
    "- Below is the `sample pmi` table from the wikipiedia dataset. \n",
    "\n",
    "| word 1 | word 2 | count word 1 | count word2 | co-occurence | pmi            |\n",
    "|--------|--------|--------------|-------------|--------------|----------------|\n",
    "| puerto | rico   | 1938         | 1311        | 1159         | 10.0349081703  |\n",
    "| car    | driver | 5578         | 2749        | 1384         | 8.41470768304  |\n",
    "| it     | the    | 283891       | 3293296     | 3347         | -1.72037278119 |\n",
    "| of     | and    | 1761436      | 1375396     | 1190         | -3.70663100173 |\n",
    "\n",
    "- Reference: https://en.wikipedia.org/wiki/Pointwise_mutual_information"
   ]
  },
  {
   "cell_type": "markdown",
   "metadata": {},
   "source": [
    "### Top 20 Related Words\n",
    "\n",
    "- `Queries` and their `related keywords` are sorted here by pmi. \n",
    "- Natural science domain seems to working well"
   ]
  },
  {
   "cell_type": "code",
   "execution_count": 24,
   "metadata": {},
   "outputs": [
    {
     "name": "stdout",
     "output_type": "stream",
     "text": [
      "query: gibberellin\n",
      "result: brassinosteroid, principal mechanism, signalling pathways\n",
      "\n",
      "query: brassinosteroid\n",
      "result: gibberellin, principal mechanism, signalling pathways\n",
      "\n",
      "query: customer segment\n",
      "result: strategic change, business concept, research knowledge\n",
      "\n",
      "query: strategic change\n",
      "result: customer segment, business concept, research knowledge\n",
      "\n",
      "query: business concept\n",
      "result: customer segment, strategic change, research knowledge\n",
      "\n",
      "query: poor nutrition\n",
      "result: mental development, chatbot, immunity\n",
      "\n",
      "query: mental development\n",
      "result: poor nutrition, chatbot, immunity\n",
      "\n",
      "query: coronary ligation\n",
      "result: isoprenaline, ligation, myocardial infarction\n",
      "\n",
      "query: isoprenaline\n",
      "result: coronary ligation, ligation, myocardial infarction\n",
      "\n",
      "query: synthetic drugs\n",
      "result: lipolysis, thermogenesis, high morbidity\n",
      "\n",
      "query: lipolysis\n",
      "result: synthetic drugs, thermogenesis, high morbidity\n",
      "\n",
      "query: requirement document\n",
      "result: data entity, database design, business process\n",
      "\n",
      "query: data entity\n",
      "result: requirement document, database design, business process\n",
      "\n",
      "query: superphylum\n",
      "result: polyphemus, ecdysozoa, nuclear dna\n",
      "\n",
      "query: polyphemus\n",
      "result: superphylum, ecdysozoa, nuclear dna\n",
      "\n",
      "query: sound stimulation\n",
      "result: umbo, eardrum, static displacement\n",
      "\n",
      "query: umbo\n",
      "result: sound stimulation, eardrum, static displacement\n",
      "\n",
      "query: hereditary disorders\n",
      "result: mendelian disorders, genetic load, gene pool\n",
      "\n",
      "query: mendelian disorders\n",
      "result: hereditary disorders, genetic load, gene pool\n",
      "\n",
      "query: hip bone\n",
      "result: hand muscles, anatomy, template\n",
      "\n"
     ]
    }
   ],
   "source": [
    "result = list()\n",
    "for i, q in enumerate(list(G.nodes)):\n",
    "    weight = sorted(G.adj[q].items(), key=lambda x: x[1]['weight'], reverse=True)[:3]\n",
    "    \n",
    "    if len(weight)==0:\n",
    "        r1, r2, r3 = 0, 0, 0\n",
    "        pmi = 0\n",
    "    elif len(weight)==1:\n",
    "        r1, r2, r3 = weight[0][0], 0, 0\n",
    "        pmi = weight[0][1]['weight']\n",
    "    elif len(weight)==2:\n",
    "        r1, r2, r3 = weight[0][0], weight[1][0], 0\n",
    "        pmi = weight[0][1]['weight']\n",
    "    else:\n",
    "        r1, r2, r3 = weight[0][0], weight[1][0], weight[2][0]\n",
    "        pmi = weight[0][1]['weight']\n",
    "    \n",
    "    result.append((q, r1, r2, r3, pmi))\n",
    "\n",
    "result.sort(key=lambda x: x[4], reverse=True)\n",
    "\n",
    "for q, r1, r2, r3, _ in result[:20]:\n",
    "    print(\"query: {}\".format(q))\n",
    "    print(\"result: {0}, {1}, {2}\\n\".format(r1, r2, r3))"
   ]
  },
  {
   "cell_type": "markdown",
   "metadata": {},
   "source": [
    "### Visualization\n",
    "\n",
    "- The final plot shows that related words form a group of cluster"
   ]
  },
  {
   "cell_type": "code",
   "execution_count": 25,
   "metadata": {},
   "outputs": [],
   "source": [
    "samples = [\"spastic\", \"hypertonia\", \"reflex\", \"muscle\", \"endophyte\", \"jatropha\", \"colonization\", \"crop\", \"colonialism\", \"patriarchy\", \"solidarity\", \"meter\"]"
   ]
  },
  {
   "cell_type": "code",
   "execution_count": 26,
   "metadata": {},
   "outputs": [],
   "source": [
    "matrix = list()\n",
    "for i, row in enumerate(samples):\n",
    "    row_temp = list()\n",
    "    for j, col in enumerate(samples):\n",
    "        w1, w2 = samples[i], samples[j]\n",
    "        if G.adj.get(w1, 0) and G.adj[w1].get(w2, 0) and G.adj[w1][w2].get(\"weight\", 0):\n",
    "            row_temp.append(G.adj[w1][w2][\"weight\"])\n",
    "        else:\n",
    "            row_temp.append(0)\n",
    "    matrix.append(row_temp)"
   ]
  },
  {
   "cell_type": "code",
   "execution_count": 28,
   "metadata": {},
   "outputs": [],
   "source": [
    "from sklearn.decomposition import PCA\n",
    "\n",
    "pca = PCA(n_components=2)\n",
    "result = pca.fit_transform(matrix)"
   ]
  },
  {
   "cell_type": "code",
   "execution_count": 30,
   "metadata": {},
   "outputs": [
    {
     "data": {
      "image/png": "[encoded data removed]",
      "text/plain": [
       "<Figure size 432x288 with 1 Axes>"
      ]
     },
     "metadata": {
      "needs_background": "light"
     },
     "output_type": "display_data"
    },
    {
     "data": {
      "text/plain": [
       "<Figure size 1080x1080 with 0 Axes>"
      ]
     },
     "metadata": {},
     "output_type": "display_data"
    }
   ],
   "source": [
    "from matplotlib import pyplot\n",
    "\n",
    "pyplot.scatter(result[:, 0], result[:, 1])\n",
    "for i, word in enumerate(samples):\n",
    "    pyplot.annotate(word, xy=(result[i, 0], result[i, 1]))\n",
    "\n",
    "pyplot.figure(figsize=(15,15))\n",
    "pyplot.show()"
   ]
  },
  {
   "cell_type": "markdown",
   "metadata": {},
   "source": [
    "### Future Directions\n",
    "\n",
    "- Tokenization\n",
    "    - Include `n-gram` (4, 5, 6 ...) extractor to extract longer keywords. The longest keyword in the list has 11 words.\n",
    "    - `Phrase mining` or `Named Entity Recogntition` can be used during the process\n",
    "    \n",
    "\n",
    "- Term Frequency\n",
    "    - Apply TF transformation when counting words. (`Sublinear tranformation`, `BM25`)\n",
    "    - Apply smoothing\n",
    "    \n",
    "\n",
    "- Embedding\n",
    "    - Use cooccurence matrix to train word embeddings (Glove)\n",
    "    - Or, load word embedding from Glove or Word2Vec and proejct to 2D plot.\n",
    "    - Evalutate the similarity of two words by using `l1 distance`, `l2 distance`, or `cosine similiarity`.\n",
    "    \n",
    "    \n",
    "- Different Approach\n",
    "    - Try `query expansion`\n",
    "    - Try `information retrieval` methods to infinitely expand the knowledge graph\n",
    "\n",
    "\n",
    "- Metric\n",
    "    - We may investigate `NPMI`\n",
    "    - `Entropy`"
   ]
  },
  {
   "cell_type": "markdown",
   "metadata": {},
   "source": [
    "### References\n",
    "- running pyspark in jupyter\n",
    "    - https://medium.com/@Vatsal410/running-pyspark-on-an-aws-cluster-through-jupyter-notebook-fe28f6ef47a4\n",
    "    - https://medium.com/@christo.lagali/run-jupyter-notebooks-with-pyspark-on-an-emr-cluster-9630ef54c4e1\n",
    "    - https://towardsdatascience.com/getting-started-with-pyspark-on-amazon-emr-c85154b6b921\n",
    "- reading and writing in Amazon s3\n",
    "    - https://docs.cloudera.com/runtime/7.0.2/developing-spark-applications/topics/spark-examples-of-accessing-s3-data-from-spark.html\n",
    "- textmining in apache spark\n",
    "    - https://runawayhorse001.github.io/LearningApacheSpark/textmining.html\n",
    "    - https://medium.com/@serkansakinmaz/how-to-connect-amazon-s3-via-emr-based-pyspark-42707d540881\n",
    "- How to setup spark cluster in AWS\n",
    "    - https://aws.amazon.com/blogs/big-data/best-practices-for-successfully-managing-memory-for-apache-spark-applications-on-amazon-emr/\n",
    "\n",
    "- Extract keywords in document\n",
    "    - https://stackoverflow.com/questions/48869922/how-to-efficiently-check-if-a-list-of-words-is-contained-in-a-spark-dataframe\n",
    "    - https://stackoverflow.com/questions/46410887/pyspark-string-matching-to-create-new-column\n",
    "      \n",
    "- Useful tutorials\n",
    "   - https://spark.apache.org/docs/1.6.3/ml-features.html\n",
    "   \n",
    "- Word embeddings and visualization\n",
    "   - https://web.stanford.edu/class/cs224n/assignments/a1_preview/exploring_word_vectors.html\n",
    "   - https://machinelearningmastery.com/develop-word-embeddings-python-gensim/  "
   ]
  }
 ],
 "metadata": {
  "kernelspec": {
   "display_name": "Python 3",
   "language": "python",
   "name": "python3"
  },
  "language_info": {
   "codemirror_mode": {
    "name": "ipython",
    "version": 3
   },
   "file_extension": ".py",
   "mimetype": "text/x-python",
   "name": "python",
   "nbconvert_exporter": "python",
   "pygments_lexer": "ipython3",
   "version": "3.7.9"
  }
 },
 "nbformat": 4,
 "nbformat_minor": 2
}
