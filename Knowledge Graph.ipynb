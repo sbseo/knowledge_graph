{
 "cells": [
  {
   "cell_type": "markdown",
   "metadata": {
    "slideshow": {
     "slide_type": "slide"
    }
   },
   "source": [
    "# Building a Knowledge Graph"
   ]
  },
  {
   "cell_type": "code",
   "execution_count": 337,
   "metadata": {},
   "outputs": [],
   "source": [
    "import pyspark as sp\n",
    "import numpy as np\n",
    "import string\n",
    "import re"
   ]
  },
  {
   "cell_type": "markdown",
   "metadata": {},
   "source": [
    "### Required for environment variable"
   ]
  },
  {
   "cell_type": "code",
   "execution_count": 2,
   "metadata": {},
   "outputs": [],
   "source": [
    "import os\n",
    "os.environ[\"PYSPARK_PYTHON\"]=\"/usr/local/bin/python3\"\n",
    "os.environ[\"PYSPARK_DRIVER_PYTHON\"]=\"/usr/local/bin/python3\""
   ]
  },
  {
   "cell_type": "markdown",
   "metadata": {},
   "source": [
    "### Setup cluster"
   ]
  },
  {
   "cell_type": "code",
   "execution_count": 3,
   "metadata": {},
   "outputs": [],
   "source": [
    "from pyspark.sql import SparkSession\n",
    "\n",
    "spark = SparkSession \\\n",
    "    .builder \\\n",
    "    .appName(\"Python Knowledge Graph Project\") \\\n",
    "    .master(\"local[*]\") \\\n",
    "    .config(\"spark.some.config.option\", \"some-value\") \\\n",
    "    .getOrCreate()\n"
   ]
  },
  {
   "cell_type": "markdown",
   "metadata": {},
   "source": [
    "###  Load dataset (100 documents, 20 keywords)"
   ]
  },
  {
   "cell_type": "code",
   "execution_count": 94,
   "metadata": {},
   "outputs": [],
   "source": [
    "df_keywords = spark.read.csv(\"./mag_cs_keywords.csv\",header=True)\n",
    "df_arxiv = spark.read.json(\"./arxiv-metadata-oai-snapshot.json\")"
   ]
  },
  {
   "cell_type": "code",
   "execution_count": 101,
   "metadata": {},
   "outputs": [],
   "source": [
    "abstracts = df_arxiv.select(\"id\",\"abstract\")\n",
    "keywords = df_keywords.select(\"normalizedName\")"
   ]
  },
  {
   "cell_type": "markdown",
   "metadata": {},
   "source": [
    "### Cleaning & Normalization"
   ]
  },
  {
   "cell_type": "code",
   "execution_count": 96,
   "metadata": {},
   "outputs": [],
   "source": [
    "from pyspark.sql.functions import udf, col\n",
    "from pyspark.sql import Row\n",
    "from pyspark.sql.types import ArrayType, StructField, StructType, StringType, IntegerType\n",
    "\n",
    "# remove non ASCII characters & lowercase\n",
    "def strip_non_ascii(data_str):\n",
    "    ''' Returns the string without non ASCII characters'''\n",
    "    stripped = (c.lower() for c in data_str if 0 < ord(c) < 127)\n",
    "\n",
    "    return ''.join(stripped)\n",
    "# setup pyspark udf function\n",
    "strip_non_ascii_udf = udf(strip_non_ascii, StringType())"
   ]
  },
  {
   "cell_type": "code",
   "execution_count": 107,
   "metadata": {},
   "outputs": [],
   "source": [
    "abstracts = abstracts.withColumn('normalized', strip_non_ascii_udf(abstracts['abstract']))\n",
    "abstracts = abstracts.select(\"id\",\"normalized\")"
   ]
  },
  {
   "cell_type": "markdown",
   "metadata": {},
   "source": [
    "1. Extract keywords in document\n",
    "    - https://stackoverflow.com/questions/48869922/how-to-efficiently-check-if-a-list-of-words-is-contained-in-a-spark-dataframe\n",
    "    - https://stackoverflow.com/questions/46410887/pyspark-string-matching-to-create-new-column\n",
    "\n",
    "   \n",
    "2. Build Co-occurence matrix\n",
    "    - https://stackoverflow.com/questions/48551900/spark-generate-occurrence-matrix\n",
    "   \n",
    "   \n",
    "3. Useful tutorials\n",
    "   - https://spark.apache.org/docs/1.6.3/ml-features.html"
   ]
  },
  {
   "cell_type": "code",
   "execution_count": 108,
   "metadata": {},
   "outputs": [
    {
     "name": "stdout",
     "output_type": "stream",
     "text": [
      "+---------+--------------------+\n",
      "|       id|          normalized|\n",
      "+---------+--------------------+\n",
      "|0704.0001|  a fully differe...|\n",
      "|0704.0002|  we describe a n...|\n",
      "|0704.0003|  the evolution o...|\n",
      "|0704.0004|  we show that a ...|\n",
      "|0704.0005|  in this paper w...|\n",
      "|0704.0006|  we study the tw...|\n",
      "|0704.0007|  a rather non-st...|\n",
      "|0704.0008|  a general formu...|\n",
      "|0704.0009|  we discuss the ...|\n",
      "|0704.0010|  partial cubes a...|\n",
      "|0704.0011|  in this paper w...|\n",
      "|0704.0012|  recently, bruin...|\n",
      "|0704.0013|  serre obtained ...|\n",
      "|0704.0014|  in this article...|\n",
      "|0704.0015|  the pure spinor...|\n",
      "|0704.0016|  in this work, w...|\n",
      "|0704.0017|  results from sp...|\n",
      "|0704.0018|  we give a presc...|\n",
      "|0704.0019|  in this note we...|\n",
      "|0704.0020|  the shape of th...|\n",
      "+---------+--------------------+\n",
      "only showing top 20 rows\n",
      "\n"
     ]
    }
   ],
   "source": [
    "abstracts.show()"
   ]
  },
  {
   "cell_type": "markdown",
   "metadata": {},
   "source": [
    "### Keyword List for Query"
   ]
  },
  {
   "cell_type": "code",
   "execution_count": 102,
   "metadata": {},
   "outputs": [],
   "source": [
    "keywords_list = list(keywords.select('normalizedName').toPandas()['normalizedName'])"
   ]
  },
  {
   "cell_type": "code",
   "execution_count": 568,
   "metadata": {},
   "outputs": [],
   "source": [
    "# keywords_list = keywords.select('normalizedName').rdd.flatMap(lambda x: x).collect()"
   ]
  },
  {
   "cell_type": "code",
   "execution_count": 338,
   "metadata": {},
   "outputs": [],
   "source": [
    "keywords_list2 = [\"fully\", \"different\", \"paper\", \"we\"] # small numbers"
   ]
  },
  {
   "cell_type": "markdown",
   "metadata": {},
   "source": [
    "### Extract Keyword from the keyword list"
   ]
  },
  {
   "cell_type": "code",
   "execution_count": 172,
   "metadata": {},
   "outputs": [],
   "source": [
    "import re\n",
    "\n",
    "# Define the function you want to return\n",
    "def extract(s):\n",
    "    all_matches = list()\n",
    "    for keyword in keywords_list2:\n",
    "        all_matches.extend(re.findall(keyword, s))\n",
    "    return ','.join(list((set(all_matches))))\n",
    "\n",
    "# Create the UDF, note that you need to declare the return schema matching the returned type\n",
    "extract_udf = udf(extract, StringType())\n",
    "\n",
    "# Apply it\n",
    "df = abstracts.withColumn('extracted', extract_udf(abstracts['normalized']))"
   ]
  },
  {
   "cell_type": "code",
   "execution_count": 173,
   "metadata": {},
   "outputs": [
    {
     "name": "stdout",
     "output_type": "stream",
     "text": [
      "+---------+--------------------+------------------+\n",
      "|       id|          normalized|         extracted|\n",
      "+---------+--------------------+------------------+\n",
      "|0704.0001|  a fully differe...|we,different,fully|\n",
      "|0704.0002|  we describe a n...|                we|\n",
      "|0704.0003|  the evolution o...|                we|\n",
      "|0704.0004|  we show that a ...|                we|\n",
      "|0704.0005|  in this paper w...|          paper,we|\n",
      "|0704.0006|  we study the tw...|                we|\n",
      "|0704.0007|  a rather non-st...|paper,we,different|\n",
      "|0704.0008|  a general formu...|      we,different|\n",
      "|0704.0009|  we discuss the ...|                we|\n",
      "|0704.0010|  partial cubes a...|             paper|\n",
      "|0704.0011|  in this paper w...|          paper,we|\n",
      "|0704.0012|  recently, bruin...|          paper,we|\n",
      "|0704.0013|  serre obtained ...|          paper,we|\n",
      "|0704.0014|  in this article...|      we,different|\n",
      "|0704.0015|  the pure spinor...|   paper,different|\n",
      "|0704.0016|  in this work, w...|          we,fully|\n",
      "|0704.0017|  results from sp...|                we|\n",
      "|0704.0018|  we give a presc...|                we|\n",
      "|0704.0019|  in this note we...|                we|\n",
      "|0704.0020|  the shape of th...|                we|\n",
      "+---------+--------------------+------------------+\n",
      "only showing top 20 rows\n",
      "\n"
     ]
    }
   ],
   "source": [
    "df.show()"
   ]
  },
  {
   "cell_type": "markdown",
   "metadata": {},
   "source": [
    "### Drop Empty Rows where no keyword exists"
   ]
  },
  {
   "cell_type": "code",
   "execution_count": 175,
   "metadata": {},
   "outputs": [],
   "source": [
    "df = df.filter(df.extracted != \"\") "
   ]
  },
  {
   "cell_type": "code",
   "execution_count": 198,
   "metadata": {},
   "outputs": [
    {
     "name": "stdout",
     "output_type": "stream",
     "text": [
      "+---------+--------------------+------------------+\n",
      "|       id|          normalized|         extracted|\n",
      "+---------+--------------------+------------------+\n",
      "|0704.0001|  a fully differe...|we,different,fully|\n",
      "|0704.0002|  we describe a n...|                we|\n",
      "|0704.0003|  the evolution o...|                we|\n",
      "|0704.0004|  we show that a ...|                we|\n",
      "|0704.0005|  in this paper w...|          paper,we|\n",
      "|0704.0006|  we study the tw...|                we|\n",
      "|0704.0007|  a rather non-st...|paper,we,different|\n",
      "|0704.0008|  a general formu...|      we,different|\n",
      "|0704.0009|  we discuss the ...|                we|\n",
      "|0704.0010|  partial cubes a...|             paper|\n",
      "|0704.0011|  in this paper w...|          paper,we|\n",
      "|0704.0012|  recently, bruin...|          paper,we|\n",
      "|0704.0013|  serre obtained ...|          paper,we|\n",
      "|0704.0014|  in this article...|      we,different|\n",
      "|0704.0015|  the pure spinor...|   paper,different|\n",
      "|0704.0016|  in this work, w...|          we,fully|\n",
      "|0704.0017|  results from sp...|                we|\n",
      "|0704.0018|  we give a presc...|                we|\n",
      "|0704.0019|  in this note we...|                we|\n",
      "|0704.0020|  the shape of th...|                we|\n",
      "+---------+--------------------+------------------+\n",
      "only showing top 20 rows\n",
      "\n"
     ]
    }
   ],
   "source": [
    "df.show()"
   ]
  },
  {
   "cell_type": "markdown",
   "metadata": {},
   "source": [
    "$$ PMI(A,B) = \\frac{P(A,B)}{P(A)*P(B)}$$"
   ]
  },
  {
   "cell_type": "markdown",
   "metadata": {},
   "source": [
    "$$ P(A,B) = \\frac{c((A,B), C_{\\text{pairs}})}{c(C_{\\text{pairs})}} $$"
   ]
  },
  {
   "cell_type": "markdown",
   "metadata": {},
   "source": [
    "$$ P(A) = \\frac{c(A)}{c(C)}, P(B) = \\frac{c(B)}{c(C)} $$"
   ]
  },
  {
   "cell_type": "markdown",
   "metadata": {},
   "source": [
    "$$ \\text{where C stands for word collection} $$"
   ]
  },
  {
   "cell_type": "markdown",
   "metadata": {},
   "source": [
    "### 1. How to count words?"
   ]
  },
  {
   "cell_type": "code",
   "execution_count": 342,
   "metadata": {},
   "outputs": [
    {
     "data": {
      "text/plain": [
       "defaultdict(int, {'we': 82, 'different': 17, 'fully': 2, 'paper': 23})"
      ]
     },
     "execution_count": 342,
     "metadata": {},
     "output_type": "execute_result"
    }
   ],
   "source": [
    "corpus_temp = df.select(\"extracted\").rdd.flatMap(lambda x: (x[\"extracted\"].split(\",\")))\n",
    "corpus = corpus_temp.countByValue()\n",
    "corpus"
   ]
  },
  {
   "cell_type": "markdown",
   "metadata": {},
   "source": [
    "### 2. How to count cooccurence?"
   ]
  },
  {
   "cell_type": "code",
   "execution_count": 423,
   "metadata": {},
   "outputs": [],
   "source": [
    "rdds = df.select(\"extracted\").rdd.map(lambda x: x['extracted'].split(\",\"))"
   ]
  },
  {
   "cell_type": "code",
   "execution_count": 540,
   "metadata": {},
   "outputs": [
    {
     "data": {
      "text/plain": [
       "defaultdict(int,\n",
       "            {('we', 'different'): 14,\n",
       "             ('we', 'fully'): 2,\n",
       "             ('different', 'fully'): 1,\n",
       "             ('paper', 'we'): 17,\n",
       "             ('paper', 'different'): 5})"
      ]
     },
     "execution_count": 540,
     "metadata": {},
     "output_type": "execute_result"
    }
   ],
   "source": [
    "from itertools import combinations\n",
    "corpus2_temp = rdds.flatMap(lambda x: combinations(x,2))\n",
    "corpus2 = corpus2_temp.countByValue()\n",
    "corpus2"
   ]
  },
  {
   "cell_type": "markdown",
   "metadata": {},
   "source": [
    "### 3. How to avoid bottleneck?\n",
    "\n",
    "- Use clusters!"
   ]
  },
  {
   "cell_type": "markdown",
   "metadata": {},
   "source": [
    "### 4. Save Result Here"
   ]
  },
  {
   "cell_type": "code",
   "execution_count": 555,
   "metadata": {},
   "outputs": [],
   "source": [
    "corpus_temp.repartition(8).saveAsTextFile(\"./corpus.txt\")\n",
    "corpus2_temp.repartition(8).saveAsTextFile(\"./corpus2.txt\")"
   ]
  },
  {
   "cell_type": "code",
   "execution_count": 566,
   "metadata": {},
   "outputs": [
    {
     "data": {
      "text/plain": [
       "defaultdict(int, {'different': 17, 'paper': 23, 'we': 82, 'fully': 2})"
      ]
     },
     "execution_count": 566,
     "metadata": {},
     "output_type": "execute_result"
    }
   ],
   "source": [
    "# corpus = spark.sparkContext.textFile(\"./corpus.txt\").countByValue()\n",
    "# corpus"
   ]
  },
  {
   "cell_type": "code",
   "execution_count": 567,
   "metadata": {},
   "outputs": [
    {
     "data": {
      "text/plain": [
       "defaultdict(int,\n",
       "            {('we', 'different'): 14,\n",
       "             ('we', 'fully'): 2,\n",
       "             ('different', 'fully'): 1,\n",
       "             ('paper', 'we'): 17,\n",
       "             ('paper', 'different'): 5})"
      ]
     },
     "execution_count": 567,
     "metadata": {},
     "output_type": "execute_result"
    }
   ],
   "source": [
    "# corpus2_temp = spark.sparkContext.textFile(\"./corpus2.txt\").countByValue()\n",
    "# corpus2"
   ]
  },
  {
   "cell_type": "markdown",
   "metadata": {},
   "source": [
    "### Draw Graph"
   ]
  },
  {
   "cell_type": "code",
   "execution_count": 523,
   "metadata": {},
   "outputs": [],
   "source": [
    "import networkx as nx\n",
    "import math\n",
    "G.add_nodes_from(corpus.keys())\n",
    "\n",
    "for (n1, n2), cooccurence in corpus2.items():\n",
    "    pmi = math.log(cooccurence/corpus[n1]*corpus[n2])\n",
    "    G.add_edge(n1, n2, weight=pmi)"
   ]
  },
  {
   "cell_type": "code",
   "execution_count": 524,
   "metadata": {},
   "outputs": [
    {
     "data": {
      "image/png": "[encoded data removed]",
      "text/plain": [
       "<Figure size 432x288 with 1 Axes>"
      ]
     },
     "metadata": {},
     "output_type": "display_data"
    }
   ],
   "source": [
    "import matplotlib.pyplot as plt\n",
    "\n",
    "options = {\n",
    "    \"node_color\": \"black\",\n",
    "    \"node_size\": 50,\n",
    "    \"linewidths\": 0,\n",
    "    \"width\": 0.1,\n",
    "}\n",
    "\n",
    "PMI_Threshold = 3\n",
    "elarge = [(u, v) for (u, v, d) in G.edges(data=True) if d[\"weight\"] >= PMI_Threshold]\n",
    "esmall = [(u, v) for (u, v, d) in G.edges(data=True) if d[\"weight\"] < PMI_Threshold]\n",
    "\n",
    "pos = nx.spring_layout(G)  # positions for all nodes\n",
    "\n",
    "# nodes\n",
    "nx.draw_networkx_nodes(G, pos, node_size=50, node_color=\"black\")\n",
    "\n",
    "# edges\n",
    "nx.draw_networkx_edges(G, pos, edgelist=elarge, width=.5, linewidth=0)\n",
    "nx.draw_networkx_edges(G, pos, edgelist=esmall, width=.1, linewidth=0, alpha=0.5, style=\"dashed\")\n",
    "nx.draw_networkx_labels(G, pos, font_size=13, font_family=\"sans-serif\")\n",
    "# nx.draw_networkx(G, **options)\n",
    "plt.axis(\"off\")\n",
    "plt.show()\n",
    "# G.clear()"
   ]
  },
  {
   "cell_type": "markdown",
   "metadata": {},
   "source": []
  },
  {
   "cell_type": "markdown",
   "metadata": {},
   "source": []
  },
  {
   "cell_type": "code",
   "execution_count": null,
   "metadata": {},
   "outputs": [],
   "source": [
    "df.select(\"extracted\").write.mode(\"overwrite\").csv(\"./extracted.csv\", header=True)"
   ]
  },
  {
   "cell_type": "code",
   "execution_count": null,
   "metadata": {},
   "outputs": [],
   "source": []
  },
  {
   "cell_type": "code",
   "execution_count": 89,
   "metadata": {},
   "outputs": [],
   "source": [
    "sample = df.distinct().count()"
   ]
  },
  {
   "cell_type": "code",
   "execution_count": null,
   "metadata": {},
   "outputs": [],
   "source": [
    "# df = df.repartition(100000)\n",
    "print(df.rdd.getNumPartitions())"
   ]
  },
  {
   "cell_type": "code",
   "execution_count": null,
   "metadata": {},
   "outputs": [],
   "source": [
    "df.select(\"extracted\").write.mode(\"overwrite\").csv(\"./extracted.csv\", header=False)"
   ]
  },
  {
   "cell_type": "code",
   "execution_count": null,
   "metadata": {},
   "outputs": [],
   "source": [
    "from pyspark.sql.functions import regexp_extract, col, concat, lit, when\n",
    "from collections import Counter\n",
    "from collections import defaultdict\n",
    "\n",
    "corpus, co_occurence, documents = Counter(), Counter(), defaultdict(set)\n",
    "df = abstracts.withColumn('extracted_words', regexp_extract('normalized', keywords_list[0], 0))\n",
    "\n",
    "keywords_list2 = [\"a\", \"describe\", \"paper\", \"algorithm\"]\n",
    "\n",
    "for i, keyword in enumerate(keywords_list[1:10],1):\n",
    "    print(\"Working on {}\".format(i))\n",
    "#     df_temp = abstracts.withColumn('extracted_temp', regexp_extract('normalized', keywords_list[1], 0))\n",
    "#     df = df_temp.withColumn('extracted_words2', concat(col('extracted_words'), lit(' '), col('extracted_temp')))\n",
    "    df_temp = df.withColumn('extracted_temp', regexp_extract('normalized', keyword, 0))\n",
    "    df = df_temp.withColumn('extracted_words', when(col('extracted_temp') != '', concat(col('extracted_words'), lit(\",\") ,col('extracted_temp'))).otherwise(col('extracted_words')))\n",
    "\n",
    "#     df_temp3 = df_temp2.withColumn('extracted_temp', regexp_extract('normalized', \"different\", 0))\n",
    "#     df_temp4 = df_temp3.withColumn('extracted_words', concat(col('extracted_words'), lit(' '), col('extracted_temp')))\n",
    "\n",
    "\n",
    "\n",
    "    \n",
    "    #     df = df.withColumn('joined_column', sf.concat(sf.col('colname1'),sf.lit('_'), sf.col('colname2')))\n",
    "#     extracted_temp = list(df.select('extracted_words').toPandas()['extracted_words'])\n",
    "    \n",
    "    # update corpus, co_occurence, documents\n",
    "#     doc_num = 0\n",
    "#     for v in extracted_temp:\n",
    "#         if not v:\n",
    "#             continue\n",
    "#         corpus[v] += 1\n",
    "#         documents[doc_num].add(v)\n",
    "#         doc_num += 1"
   ]
  },
  {
   "cell_type": "code",
   "execution_count": null,
   "metadata": {},
   "outputs": [],
   "source": [
    "df.cache()"
   ]
  },
  {
   "cell_type": "markdown",
   "metadata": {},
   "source": [
    "df.write.csv"
   ]
  },
  {
   "cell_type": "code",
   "execution_count": null,
   "metadata": {},
   "outputs": [],
   "source": [
    "df.select('extracted_words').take(20)\n",
    "# df.show()"
   ]
  },
  {
   "cell_type": "code",
   "execution_count": null,
   "metadata": {},
   "outputs": [],
   "source": [
    "df_temp = df.withColumn('extracted_temp', regexp_extract('normalized', \"fully\", 0))\n",
    "df_temp2 = df_temp.withColumn('extracted_words', concat(col('extracted_words'), lit(' '),col('extracted_temp')))\n",
    "\n",
    "df_temp3 = df_temp2.withColumn('extracted_temp', regexp_extract('normalized', \"different\", 0))\n",
    "df_temp4 = df_temp3.withColumn('extracted_words', concat(col('extracted_words'), lit(' '), col('extracted_temp')))\n",
    "\n",
    "\n"
   ]
  },
  {
   "cell_type": "code",
   "execution_count": null,
   "metadata": {},
   "outputs": [],
   "source": [
    "l = keywords.collect()"
   ]
  },
  {
   "cell_type": "code",
   "execution_count": null,
   "metadata": {},
   "outputs": [],
   "source": [
    "for n in l[:2]:\n",
    "    print(n['normalizedName'])"
   ]
  },
  {
   "cell_type": "code",
   "execution_count": null,
   "metadata": {},
   "outputs": [],
   "source": [
    "corpus"
   ]
  },
  {
   "cell_type": "markdown",
   "metadata": {},
   "source": [
    "https://towardsdatascience.com/solving-combinatorial-problems-with-pyspark-fad433b1fca0"
   ]
  },
  {
   "cell_type": "code",
   "execution_count": null,
   "metadata": {},
   "outputs": [],
   "source": [
    "from flashtext import KeywordProcessor\n",
    "\n",
    "kp = KeywordProcessor()\n",
    "keywords = ['abc']\n",
    "for keyword in keywords:\n",
    "    kp.add_keyword(keyword)\n",
    "\n",
    "def extractKeywords(menu_name, kp=kp):\n",
    "    keywords = kp.extract_keywords(menu_name)\n",
    "    return ''.join(keywords)\n",
    "    \n",
    "extractKeywords_udf = udf(extractKeywords, StringType())"
   ]
  },
  {
   "cell_type": "code",
   "execution_count": null,
   "metadata": {},
   "outputs": [],
   "source": [
    "df2 = df.withColumn(\"extracted_keyword\", udf(abstracts[\"normalized\"]))"
   ]
  },
  {
   "cell_type": "markdown",
   "metadata": {},
   "source": []
  },
  {
   "cell_type": "markdown",
   "metadata": {},
   "source": [
    "### Testing partition"
   ]
  },
  {
   "cell_type": "markdown",
   "metadata": {},
   "source": [
    "References\n",
    "- running pyspark in jupyter\n",
    "    - https://medium.com/@Vatsal410/running-pyspark-on-an-aws-cluster-through-jupyter-notebook-fe28f6ef47a4\n",
    "- https://medium.com/@christo.lagali/run-jupyter-notebooks-with-pyspark-on-an-emr-cluster-9630ef54c4e1\n",
    "- https://towardsdatascience.com/getting-started-with-pyspark-on-amazon-emr-c85154b6b921\n",
    "- reading and writing s3\n",
    "    - https://docs.cloudera.com/runtime/7.0.2/developing-spark-applications/topics/spark-examples-of-accessing-s3-data-from-spark.html\n",
    "- textmining in apache spark\n",
    "    - https://runawayhorse001.github.io/LearningApacheSpark/textmining.html\n",
    "- https://medium.com/@serkansakinmaz/how-to-connect-amazon-s3-via-emr-based-pyspark-42707d540881"
   ]
  },
  {
   "cell_type": "code",
   "execution_count": null,
   "metadata": {},
   "outputs": [],
   "source": [
    "l = [0,1,2,3,4,5,6,7,8,9]"
   ]
  }
 ],
 "metadata": {
  "kernelspec": {
   "display_name": "Python 3.7.4 64-bit",
   "language": "python",
   "name": "python37464bit3209f78e23784fe7aad1ed6f75489d02"
  },
  "language_info": {
   "codemirror_mode": {
    "name": "ipython",
    "version": 3
   },
   "file_extension": ".py",
   "mimetype": "text/x-python",
   "name": "python",
   "nbconvert_exporter": "python",
   "pygments_lexer": "ipython3",
   "version": "3.7.4"
  }
 },
 "nbformat": 4,
 "nbformat_minor": 2
}
